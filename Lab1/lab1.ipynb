{
 "cells": [
  {
   "cell_type": "code",
   "execution_count": 2,
   "metadata": {},
   "outputs": [],
   "source": [
    "import numpy as np\n",
    "from matplotlib import pyplot as plt"
   ]
  },
  {
   "cell_type": "code",
   "execution_count": 3,
   "metadata": {},
   "outputs": [],
   "source": [
    "# Generate training data\n",
    "def generate_linear(n=100):\n",
    "    pts = np.random.uniform(0, 1, (n, 2))\n",
    "    inputs = []\n",
    "    labels = []\n",
    "    for pt in pts:\n",
    "        inputs.append([pt[0], pt[1]])\n",
    "        distance = (pt[0]-pt[1])/1.414\n",
    "        if pt[0] > pt[1]:\n",
    "            labels.append(0)\n",
    "        else:\n",
    "            labels.append(1)\n",
    "    return np.array(inputs), np.array(labels).reshape(n, 1)\n",
    "\n",
    "def generate_XOR_easy():\n",
    "    inputs = []\n",
    "    labels = []\n",
    "    \n",
    "    for i in range(11):\n",
    "        inputs.append([0.1*i, 0.1*i])\n",
    "        labels.append(0)\n",
    "        \n",
    "        if 0.1*i == 0.5:\n",
    "            continue\n",
    "        \n",
    "        inputs.append([0.1*i, 1-0.1*i])\n",
    "        labels.append(1)\n",
    "        \n",
    "    return np.array(inputs), np.array(labels).reshape(21, 1)"
   ]
  },
  {
   "cell_type": "code",
   "execution_count": 4,
   "metadata": {},
   "outputs": [],
   "source": [
    "x_train, y_train = generate_linear(n=100)\n",
    "x_train_1 , y_train_1 = generate_XOR_easy()"
   ]
  },
  {
   "cell_type": "code",
   "execution_count": 5,
   "metadata": {},
   "outputs": [],
   "source": [
    "# Active function\n",
    "def sigmoid(x):\n",
    "    return 1.0/(1.0 + np.exp(-x))\n",
    "\n",
    "def derivative_sigmoid(x):\n",
    "    return np.multiply(x, 1.0 - x)"
   ]
  },
  {
   "cell_type": "code",
   "execution_count": 6,
   "metadata": {},
   "outputs": [],
   "source": [
    "# Display funtion\n",
    "'''\n",
    "  x: data\n",
    "  y: corresponding data groundtruth\n",
    "  y_pred: if given, plot the compare graph with this prediction result,\n",
    "          the result is in range [0, 1], so value with greater than 0.5 \n",
    "          will be recognized as Class 1 and less than 0.5 as Class 0\n",
    "'''\n",
    "def show_result(x, y, y_pred = None):\n",
    "    if y_pred is not None:\n",
    "        plt.subplot(1, 2, 1)\n",
    "        plt.title(\"Ground truth\", fontsize = 18)\n",
    "        for i in range(x.shape[0]):\n",
    "            if y[i] == 0:\n",
    "                plt.plot(x[i][0], x[i][1], 'ro')\n",
    "            else:\n",
    "                plt.plot(x[i][0], x[i][1], 'bo')\n",
    "    else:\n",
    "        plt.title(\"Ground truth\", fontsize = 18)\n",
    "        for i in range(x.shape[0]):\n",
    "            if y[i] == 0:\n",
    "                plt.plot(x[i][0], x[i][1], 'ro')\n",
    "            else:\n",
    "                plt.plot(x[i][0], x[i][1], 'bo')\n",
    "    if y_pred is not None:\n",
    "        plt.subplot(1, 2, 2)\n",
    "        plt.title(\"Predict result\", fontsize = 18)\n",
    "        for i in range(x.shape[0]):\n",
    "            if y_pred[i] < 0.5:\n",
    "                plt.plot(x[i][0], x[i][1], 'ro')\n",
    "            else:\n",
    "                plt.plot(x[i][0], x[i][1], 'bo')"
   ]
  },
  {
   "cell_type": "markdown",
   "metadata": {},
   "source": [
    "# NN Architecture \n",
    "Input(2) -> FC1(2) -> FC(2) -> OUT(1)"
   ]
  },
  {
   "cell_type": "code",
   "execution_count": 7,
   "metadata": {},
   "outputs": [],
   "source": [
    "'''\n",
    "  x: input with 2 channel\n",
    "  W: weight\n",
    "'''\n",
    "def forward(x, W):\n",
    "    w1, w2, w3 = W\n",
    "    # Forward\n",
    "    z1 = np.dot(x, w1)\n",
    "    a1 = sigmoid(z1)\n",
    "    z2 = np.dot(a1, w2)\n",
    "    a2 = sigmoid(z2)\n",
    "    z3 = np.dot(a2, w3)\n",
    "    y_pred = sigmoid(z3)\n",
    "    return y_pred"
   ]
  },
  {
   "cell_type": "code",
   "execution_count": 8,
   "metadata": {},
   "outputs": [],
   "source": [
    "# Random initial weight and return \n",
    "def init_weight():\n",
    "    w1 = np.random.randn(2, 2)\n",
    "    w2 = np.random.randn(2, 2)\n",
    "    w3 = np.random.randn(2, 1)\n",
    "    print(\"w1 initial: \\n\", w1)\n",
    "    print(\"w2 initial: \\n\", w2)\n",
    "    print(\"w3 initial: \\n\", w3)\n",
    "    return [w1, w2, w3]"
   ]
  },
  {
   "cell_type": "code",
   "execution_count": 9,
   "metadata": {},
   "outputs": [],
   "source": [
    "# Save result\n",
    "def save_result():\n",
    "    global w1, w2, w3\n",
    "    W = [w1, w2, w3]\n",
    "    print('Result saved.')\n",
    "    print(W)\n",
    "    return W"
   ]
  },
  {
   "cell_type": "code",
   "execution_count": 10,
   "metadata": {},
   "outputs": [],
   "source": [
    "# Train\n",
    "loss_sum = 0\n",
    "loss_type = 'Cross Entropy'\n",
    "#loss_type = 'MSE'\n",
    "'''\n",
    "  x: training data\n",
    "  y: corresponding groundtruth\n",
    "  i: epoch now\n",
    "  j: index of data now\n",
    "  model: indicate which model, 0 for linear separable and 1 for XOR\n",
    "'''\n",
    "def train(x, y, loss_list = None,i = None, j = None, model = 0):\n",
    "    global w1, w2, w3\n",
    "    # Forward\n",
    "    z1 = np.dot(x, w1)\n",
    "    a1 = sigmoid(z1)\n",
    "    z2 = np.dot(a1, w2)\n",
    "    a2 = sigmoid(z2)\n",
    "    z3 = np.dot(a2, w3)\n",
    "    y_pred = sigmoid(z3)\n",
    "\n",
    "    \n",
    "    # Loss\n",
    "    if loss_type == 'Cross Entropy':\n",
    "        loss = -y * np.log(y_pred) - (1-y) * np.log(1-y_pred)\n",
    "        loss_grad = (y_pred - y)/ (y_pred * (1-y_pred))\n",
    "\n",
    "    if loss_type == 'MSE':\n",
    "        loss = (y - y_pred)**2 /2.\n",
    "        loss_grad = y_pred - y \n",
    "    \n",
    "    w3_grad = np.zeros((2, 1))\n",
    "    w2_grad = np.zeros((2, 2))\n",
    "    w1_grad = np.zeros((2, 2))\n",
    "    \n",
    "    w3_grad[0] = loss_grad * derivative_sigmoid(y_pred) * a2[0]\n",
    "    w3_grad[1] = loss_grad * derivative_sigmoid(y_pred) * a2[1]\n",
    "    \n",
    "    way_1 = loss_grad * derivative_sigmoid(y_pred) * w3[0] * derivative_sigmoid(a2[0])\n",
    "    way_2 = loss_grad * derivative_sigmoid(y_pred) * w3[1] * derivative_sigmoid(a2[1])\n",
    "    \n",
    "    w2_grad[0][0] = way_1 * a1[0]\n",
    "    w2_grad[0][1] = way_2 * a1[0]\n",
    "    w2_grad[1][0] = way_1 * a1[1]\n",
    "    w2_grad[1][1] = way_2 * a1[1]\n",
    "    \n",
    "    way_3 = way_1 * w2[0][0] * derivative_sigmoid(a1[0]) + \\\n",
    "            way_2 * w2[0][1] * derivative_sigmoid(a1[0])\n",
    "    way_4 = way_1 * w2[1][0] * derivative_sigmoid(a1[1]) + \\\n",
    "            way_2 * w2[1][1] * derivative_sigmoid(a1[1])\n",
    "    \n",
    "    w1_grad[0][0] = way_3 * x[0]\n",
    "    w1_grad[0][1] = way_4 * x[0]\n",
    "    w1_grad[1][0] = way_3 * x[1]\n",
    "    w1_grad[1][1] = way_4 * x[1]\n",
    "    \n",
    "    # Update weight\n",
    "    w1 -= learning_rate * w1_grad\n",
    "    w2 -= learning_rate * w2_grad\n",
    "    w3 -= learning_rate * w3_grad\n",
    "    global loss_sum\n",
    "    loss_sum += abs(loss[0])\n",
    "    \n",
    "    if model == 0:\n",
    "        NUM = 100.\n",
    "        FREQ = 500\n",
    "    else:\n",
    "        NUM = 21.\n",
    "        FREQ = 10000\n",
    "        \n",
    "    if loss_list is not None:\n",
    "        if j == NUM - 1:\n",
    "            loss_list.append(loss_sum/NUM /(i+1))\n",
    "    \n",
    "    if((i+1)%FREQ == 0 and j == NUM - 1):\n",
    "        print(\"Epoch: {:5d}, loss: {}\".format(i+1, loss_sum/NUM /(i+1)))\n",
    "        loss_sum = 0\n",
    "        "
   ]
  },
  {
   "cell_type": "code",
   "execution_count": 19,
   "metadata": {},
   "outputs": [
    {
     "name": "stderr",
     "output_type": "stream",
     "text": [
      "<>:9: SyntaxWarning: name 'loss_list' is assigned to before global declaration\n",
      "<>:9: SyntaxWarning: name 'loss_list' is assigned to before global declaration\n",
      "<>:9: SyntaxWarning: name 'loss_list' is assigned to before global declaration\n"
     ]
    },
    {
     "name": "stdout",
     "output_type": "stream",
     "text": [
      "w1 initial: \n",
      " [[-0.2655445  -0.45679679]\n",
      " [-0.54472646  1.18014234]]\n",
      "w2 initial: \n",
      " [[-0.89760281 -1.32829025]\n",
      " [-0.51264642  0.02933828]]\n",
      "w3 initial: \n",
      " [[ 0.11607488]\n",
      " [-0.96134442]]\n",
      "Epoch:   500, loss: 0.5260295107827689\n",
      "Epoch:  1000, loss: 0.015851412154942342\n",
      "Epoch:  1500, loss: 0.0031944909559679063\n",
      "Epoch:  2000, loss: 0.0013390371660596215\n",
      "Epoch:  2500, loss: 0.000720760126683062\n",
      "Epoch:  3000, loss: 0.00044428964402407246\n",
      "Epoch:  3500, loss: 0.0002985924650194008\n",
      "Epoch:  4000, loss: 0.0002131279830887113\n",
      "Epoch:  4500, loss: 0.0001590362614978853\n",
      "Epoch:  5000, loss: 0.00012279563293656149\n",
      "Epoch:  5500, loss: 9.741538614318271e-05\n",
      "Epoch:  6000, loss: 7.899909266757215e-05\n",
      "Epoch:  6500, loss: 6.524186024000062e-05\n",
      "Epoch:  7000, loss: 5.471272101494905e-05\n",
      "Epoch:  7500, loss: 4.648691972094909e-05\n",
      "Epoch:  8000, loss: 3.994627250600194e-05\n",
      "Epoch:  8500, loss: 3.466539890285487e-05\n",
      "Epoch:  9000, loss: 3.034416490845311e-05\n",
      "Epoch:  9500, loss: 2.676611858770728e-05\n",
      "Epoch: 10000, loss: 2.37721153737247e-05\n",
      "Training process terminated.\n",
      "Result saved.\n",
      "[array([[ 4.39060797, -9.82672791],\n",
      "       [-3.4178775 ,  9.12361504]]), array([[-5.00895229,  5.97140126],\n",
      "       [ 7.74337368, -9.06460215]]), array([[ 10.96421869],\n",
      "       [-12.25795282]])]\n"
     ]
    },
    {
     "data": {
      "image/png": "[encoded data removed]",
      "text/plain": [
       "<Figure size 432x288 with 1 Axes>"
      ]
     },
     "metadata": {
      "needs_background": "light"
     },
     "output_type": "display_data"
    }
   ],
   "source": [
    "# Train linear separable model\n",
    "epoch = 10000\n",
    "learning_rate = 1e-2\n",
    "w1, w2, w3 = init_weight()\n",
    "loss_list = []\n",
    "\n",
    "for i in range(epoch):\n",
    "    for j in range(100):\n",
    "        global loss_list\n",
    "        train(x_train[j], y_train[j], loss_list, i, j)\n",
    "        \n",
    "print(\"Training process terminated.\")\n",
    "# Plot loss curve\n",
    "plt.plot(loss_list)\n",
    "plt.title(\"Loss curve with lr={}\".format(learning_rate))\n",
    "# Save result\n",
    "W_s = save_result()"
   ]
  },
  {
   "cell_type": "code",
   "execution_count": 85,
   "metadata": {
    "scrolled": true
   },
   "outputs": [
    {
     "name": "stdout",
     "output_type": "stream",
     "text": [
      "Epoch: 10000, loss: 0.5482566810045887\n",
      "Epoch: 20000, loss: 0.10608940048861028\n",
      "Epoch: 30000, loss: 0.022146703898545617\n",
      "Epoch: 40000, loss: 0.01056609388897157\n",
      "Epoch: 50000, loss: 0.006300700907682458\n",
      "Epoch: 60000, loss: 0.004199800803247961\n",
      "Epoch: 70000, loss: 0.003002780653920039\n",
      "Epoch: 80000, loss: 0.0022545863449310436\n",
      "Epoch: 90000, loss: 0.0017553630672875525\n",
      "Epoch: 100000, loss: 0.001405557033116294\n",
      "Epoch: 110000, loss: 0.0011509098327915667\n",
      "Epoch: 120000, loss: 0.0009597605892519087\n",
      "Epoch: 130000, loss: 0.0008126113318228421\n",
      "Epoch: 140000, loss: 0.0006969168761923976\n",
      "Epoch: 150000, loss: 0.0006043065841271946\n",
      "Epoch: 160000, loss: 0.0005290209932610993\n",
      "Epoch: 170000, loss: 0.0004669915937448922\n",
      "Epoch: 180000, loss: 0.00041527805125298156\n",
      "Epoch: 190000, loss: 0.000371712498123162\n",
      "Epoch: 200000, loss: 0.00033466815160050525\n",
      "Training processing terminated.\n",
      "Result saved.\n",
      "[array([[ 15.94350524,  20.49922234],\n",
      "       [-18.5702394 , -24.16537763]]), array([[-10.80994404,  12.28735589],\n",
      "       [ 12.42553026,   3.53403837]]), array([[ 49.73565738],\n",
      "       [-37.10204209]])]\n"
     ]
    },
    {
     "data": {
      "image/png": "[encoded data removed]",
      "text/plain": [
       "<Figure size 432x288 with 1 Axes>"
      ]
     },
     "metadata": {
      "needs_background": "light"
     },
     "output_type": "display_data"
    }
   ],
   "source": [
    "# Train XOR model\n",
    "epoch = 200000\n",
    "learning_rate = 1e-2\n",
    "# Random initial\n",
    "#w1, w2, w3 = init_weight()\n",
    "# Same initailization\n",
    "\n",
    "w1 = np.array([[-1.1014141, 1.24820549],[-2.24830822, -0.70606382]])\n",
    "w2 = np.array([[-0.99334685, 0.02178998],[ 0.10302095, 0.26332976]])\n",
    "w3 = np.array([[-0.26105551], [-2.14096867]])\n",
    "\n",
    "# All zeros\n",
    "'''\n",
    "w1 = np.zeros((2, 2))\n",
    "w2 = np.zeros((2, 2))\n",
    "w3 = np.zeros((2, 1))\n",
    "'''\n",
    "# Huge\n",
    "'''\n",
    "w1 = np.array([[1e2, -1e2], [1e2, -1e2]])\n",
    "w2 = np.array([[-1e2, 1e2], [-1e2, 1e2]])\n",
    "w3 = np.array([[10.], [-10.]])\n",
    "'''\n",
    "\n",
    "# Near the best solution\n",
    "'''\n",
    "w1 = np.array([[15., 20.], [-18., -24.]])\n",
    "w2 = np.array([[-10., 12.], [12., 3.5]])\n",
    "w3 = np.array([[50.], [-37.]])\n",
    "'''\n",
    "\n",
    "loss_list_xor = []\n",
    "for i in range(epoch):\n",
    "    for j in range(21):\n",
    "        train(x_train_1[j], y_train_1[j], loss_list_xor, i, j, 1)\n",
    "        \n",
    "print(\"Training processing terminated.\")\n",
    "\n",
    "# Plot loss curve\n",
    "plt.plot(loss_list_xor)\n",
    "plt.title(\"Random initailization\".format(learning_rate))\n",
    "\n",
    "# Save model\n",
    "W_xor = save_result()\n"
   ]
  },
  {
   "cell_type": "markdown",
   "metadata": {},
   "source": [
    "# Test"
   ]
  },
  {
   "cell_type": "code",
   "execution_count": 24,
   "metadata": {},
   "outputs": [
    {
     "data": {
      "image/png": "[encoded data removed]",
      "text/plain": [
       "<Figure size 432x288 with 2 Axes>"
      ]
     },
     "metadata": {
      "needs_background": "light"
     },
     "output_type": "display_data"
    }
   ],
   "source": [
    "show_result(x_train, y_train, forward(x_train, W_s))"
   ]
  },
  {
   "cell_type": "code",
   "execution_count": 84,
   "metadata": {},
   "outputs": [
    {
     "data": {
      "image/png": "[encoded data removed]",
      "text/plain": [
       "<Figure size 432x288 with 2 Axes>"
      ]
     },
     "metadata": {
      "needs_background": "light"
     },
     "output_type": "display_data"
    }
   ],
   "source": [
    "show_result(x_train_1, y_train_1, forward(x_train_1, W_xor))"
   ]
  },
  {
   "cell_type": "code",
   "execution_count": 750,
   "metadata": {},
   "outputs": [
    {
     "data": {
      "text/plain": [
       "array([0.02480135])"
      ]
     },
     "execution_count": 750,
     "metadata": {},
     "output_type": "execute_result"
    }
   ],
   "source": [
    "forward(np.array([0.15, 0.15]), W_s)"
   ]
  },
  {
   "cell_type": "code",
   "execution_count": 764,
   "metadata": {},
   "outputs": [
    {
     "data": {
      "text/plain": [
       "array([[0.06325],\n",
       "       [0.98774],\n",
       "       [0.00082],\n",
       "       [0.98774],\n",
       "       [0.00001],\n",
       "       [0.98785],\n",
       "       [0.     ],\n",
       "       [0.99011],\n",
       "       [0.     ],\n",
       "       [0.99798],\n",
       "       [0.     ],\n",
       "       [0.     ],\n",
       "       [0.98836],\n",
       "       [0.     ],\n",
       "       [0.99806],\n",
       "       [0.00001],\n",
       "       [0.9982 ],\n",
       "       [0.00009],\n",
       "       [0.9982 ],\n",
       "       [0.00114],\n",
       "       [0.9982 ]])"
      ]
     },
     "execution_count": 764,
     "metadata": {},
     "output_type": "execute_result"
    }
   ],
   "source": [
    "np.set_printoptions(precision=5, suppress=True)\n",
    "forward(x_train_1, W_xor)"
   ]
  },
  {
   "cell_type": "code",
   "execution_count": 22,
   "metadata": {},
   "outputs": [
    {
     "data": {
      "text/plain": [
       "[array([[ 4.39060797, -9.82672791],\n",
       "        [-3.4178775 ,  9.12361504]]), array([[-5.00895229,  5.97140126],\n",
       "        [ 7.74337368, -9.06460215]]), array([[ 10.96421869],\n",
       "        [-12.25795282]])]"
      ]
     },
     "execution_count": 22,
     "metadata": {},
     "output_type": "execute_result"
    }
   ],
   "source": [
    "W_s"
   ]
  },
  {
   "cell_type": "code",
   "execution_count": 42,
   "metadata": {},
   "outputs": [
    {
     "data": {
      "text/plain": [
       "(array([[ 15.94350524,  20.49922234],\n",
       "        [-18.5702394 , -24.16537763]]), array([[-10.80994404,  12.28735589],\n",
       "        [ 12.42553026,   3.53403837]]), array([[ 49.73565738],\n",
       "        [-37.10204209]]))"
      ]
     },
     "execution_count": 42,
     "metadata": {},
     "output_type": "execute_result"
    }
   ],
   "source": [
    "W_xor[0], W_xor[1], W_xor[2]"
   ]
  },
  {
   "cell_type": "code",
   "execution_count": 44,
   "metadata": {},
   "outputs": [
    {
     "data": {
      "text/plain": [
       "(2, 1)"
      ]
     },
     "execution_count": 44,
     "metadata": {},
     "output_type": "execute_result"
    }
   ],
   "source": [
    "np.array([[1e6], [1e6]]).shape"
   ]
  },
  {
   "cell_type": "code",
   "execution_count": 71,
   "metadata": {},
   "outputs": [
    {
     "data": {
      "text/plain": [
       "0.0346631103423913"
      ]
     },
     "execution_count": 71,
     "metadata": {},
     "output_type": "execute_result"
    }
   ],
   "source": [
    "loss_list_xor[-1]"
   ]
  },
  {
   "cell_type": "code",
   "execution_count": 68,
   "metadata": {},
   "outputs": [
    {
     "data": {
      "text/plain": [
       "[<matplotlib.lines.Line2D at 0x7f21e3b1a358>]"
      ]
     },
     "execution_count": 68,
     "metadata": {},
     "output_type": "execute_result"
    },
    {
     "data": {
      "image/png": "[encoded data removed]",
      "text/plain": [
       "<Figure size 432x288 with 1 Axes>"
      ]
     },
     "metadata": {
      "needs_background": "light"
     },
     "output_type": "display_data"
    }
   ],
   "source": []
  },
  {
   "cell_type": "code",
   "execution_count": null,
   "metadata": {},
   "outputs": [],
   "source": []
  }
 ],
 "metadata": {
  "kernelspec": {
   "display_name": "Python 3",
   "language": "python",
   "name": "python3"
  },
  "language_info": {
   "codemirror_mode": {
    "name": "ipython",
    "version": 3
   },
   "file_extension": ".py",
   "mimetype": "text/x-python",
   "name": "python",
   "nbconvert_exporter": "python",
   "pygments_lexer": "ipython3",
   "version": "3.5.2"
  }
 },
 "nbformat": 4,
 "nbformat_minor": 2
}
