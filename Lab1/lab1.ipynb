{
 "cells": [
  {
   "cell_type": "code",
   "execution_count": 1,
   "metadata": {},
   "outputs": [],
   "source": [
    "import numpy as np\n",
    "from matplotlib import pyplot as plt"
   ]
  },
  {
   "cell_type": "code",
   "execution_count": 663,
   "metadata": {},
   "outputs": [],
   "source": [
    "# Generate training data\n",
    "def generate_linear(n=100):\n",
    "    pts = np.random.uniform(0, 1, (n, 2))\n",
    "    inputs = []\n",
    "    labels = []\n",
    "    for pt in pts:\n",
    "        inputs.append([pt[0], pt[1]])\n",
    "        distance = (pt[0]-pt[1])/1.414\n",
    "        if pt[0] > pt[1]:\n",
    "            labels.append(0)\n",
    "        else:\n",
    "            labels.append(1)\n",
    "    return np.array(inputs), np.array(labels).reshape(n, 1)\n",
    "\n",
    "def generate_XOR_easy():\n",
    "    inputs = []\n",
    "    labels = []\n",
    "    \n",
    "    for i in range(11):\n",
    "        inputs.append([0.1*i, 0.1*i])\n",
    "        labels.append(0)\n",
    "        \n",
    "        if 0.1*i == 0.5:\n",
    "            continue\n",
    "        \n",
    "        inputs.append([0.1*i, 1-0.1*i])\n",
    "        labels.append(1)\n",
    "        \n",
    "    return np.array(inputs), np.array(labels).reshape(21, 1)"
   ]
  },
  {
   "cell_type": "code",
   "execution_count": 664,
   "metadata": {},
   "outputs": [],
   "source": [
    "x_train, y_train = generate_linear(n=100)\n",
    "x_train_1 , y_train_1 = generate_XOR_easy()"
   ]
  },
  {
   "cell_type": "code",
   "execution_count": 665,
   "metadata": {},
   "outputs": [],
   "source": [
    "# Active function\n",
    "def sigmoid(x):\n",
    "    return 1.0/(1.0 + np.exp(-x))\n",
    "\n",
    "def derivative_sigmoid(x):\n",
    "    return np.multiply(x, 1.0 - x)"
   ]
  },
  {
   "cell_type": "code",
   "execution_count": 666,
   "metadata": {},
   "outputs": [],
   "source": [
    "# Display funtion\n",
    "'''\n",
    "  x: data\n",
    "  y: corresponding data groundtruth\n",
    "  y_pred: if given, plot the compare graph with this prediction result,\n",
    "          the result is in range [0, 1], so value with greater than 0.5 \n",
    "          will be recognized as Class 1 and less than 0.5 as Class 0\n",
    "'''\n",
    "def show_result(x, y, y_pred = None):\n",
    "    if y_pred is not None:\n",
    "        plt.subplot(1, 2, 1)\n",
    "        plt.title(\"Ground truth\", fontsize = 18)\n",
    "        for i in range(x.shape[0]):\n",
    "            if y[i] == 0:\n",
    "                plt.plot(x[i][0], x[i][1], 'ro')\n",
    "            else:\n",
    "                plt.plot(x[i][0], x[i][1], 'bo')\n",
    "    else:\n",
    "        plt.title(\"Ground truth\", fontsize = 18)\n",
    "        for i in range(x.shape[0]):\n",
    "            if y[i] == 0:\n",
    "                plt.plot(x[i][0], x[i][1], 'ro')\n",
    "            else:\n",
    "                plt.plot(x[i][0], x[i][1], 'bo')\n",
    "    if y_pred is not None:\n",
    "        plt.subplot(1, 2, 2)\n",
    "        plt.title(\"Predict result\", fontsize = 18)\n",
    "        for i in range(x.shape[0]):\n",
    "            if y_pred[i] < 0.5:\n",
    "                plt.plot(x[i][0], x[i][1], 'ro')\n",
    "            else:\n",
    "                plt.plot(x[i][0], x[i][1], 'bo')"
   ]
  },
  {
   "cell_type": "markdown",
   "metadata": {},
   "source": [
    "# NN Architecture \n",
    "Input(2) -> FC1(2) -> FC(2) -> OUT(1)"
   ]
  },
  {
   "cell_type": "code",
   "execution_count": 667,
   "metadata": {},
   "outputs": [],
   "source": [
    "'''\n",
    "  x: input with 2 channel\n",
    "  W: weight\n",
    "'''\n",
    "def forward(x, W):\n",
    "    w1, w2, w3 = W\n",
    "    # Forward\n",
    "    z1 = np.dot(x, w1)\n",
    "    a1 = sigmoid(z1)\n",
    "    z2 = np.dot(a1, w2)\n",
    "    a2 = sigmoid(z2)\n",
    "    z3 = np.dot(a2, w3)\n",
    "    y_pred = sigmoid(z3)\n",
    "    return y_pred"
   ]
  },
  {
   "cell_type": "code",
   "execution_count": 668,
   "metadata": {},
   "outputs": [],
   "source": [
    "# Random initial weight and return \n",
    "def init_weight():\n",
    "    w1 = np.random.randn(2, 2)\n",
    "    w2 = np.random.randn(2, 2)\n",
    "    w3 = np.random.randn(2, 1)\n",
    "    print(\"w1 initial: \\n\", w1)\n",
    "    print(\"w2 initial: \\n\", w2)\n",
    "    print(\"w3 initial: \\n\", w3)\n",
    "    return [w1, w2, w3]"
   ]
  },
  {
   "cell_type": "code",
   "execution_count": 694,
   "metadata": {},
   "outputs": [],
   "source": [
    "# Save result\n",
    "def save_result():\n",
    "    global w1, w2, w3\n",
    "    W = [w1, w2, w3]\n",
    "    print('Result saved.')\n",
    "    return W"
   ]
  },
  {
   "cell_type": "code",
   "execution_count": 736,
   "metadata": {},
   "outputs": [],
   "source": [
    "# Train\n",
    "loss_sum = 0\n",
    "loss_type = 'Cross Entropy'\n",
    "#loss_type = 'MSE'\n",
    "'''\n",
    "  x: training data\n",
    "  y: corresponding groundtruth\n",
    "  i: epoch now\n",
    "  j: index of data now\n",
    "  model: indicate which model, 0 for linear separable and 1 for XOR\n",
    "'''\n",
    "def train(x, y, i = None, j = None, model = 0):\n",
    "    global w1, w2, w3\n",
    "    # Forward\n",
    "    z1 = np.dot(x, w1)\n",
    "    a1 = sigmoid(z1)\n",
    "    z2 = np.dot(a1, w2)\n",
    "    a2 = sigmoid(z2)\n",
    "    z3 = np.dot(a2, w3)\n",
    "    y_pred = sigmoid(z3)\n",
    "\n",
    "    \n",
    "    # Loss\n",
    "    if loss_type == 'Cross Entropy':\n",
    "        loss = -y * np.log(y_pred) - (1-y) * np.log(1-y_pred)\n",
    "        loss_grad = (y_pred - y)/ (y_pred * (1-y_pred))\n",
    "\n",
    "    if loss_type == 'MSE':\n",
    "        loss = (y - y_pred)**2 /2.\n",
    "        loss_grad = y_pred - y \n",
    "    \n",
    "    w3_grad = np.zeros((2, 1))\n",
    "    w2_grad = np.zeros((2, 2))\n",
    "    w1_grad = np.zeros((2, 2))\n",
    "    \n",
    "    w3_grad[0] = loss_grad * derivative_sigmoid(y_pred) * a2[0]\n",
    "    w3_grad[1] = loss_grad * derivative_sigmoid(y_pred) * a2[1]\n",
    "    \n",
    "    way_1 = loss_grad * derivative_sigmoid(y_pred) * w3[0] * derivative_sigmoid(a2[0])\n",
    "    way_2 = loss_grad * derivative_sigmoid(y_pred) * w3[1] * derivative_sigmoid(a2[1])\n",
    "    \n",
    "    w2_grad[0][0] = way_1 * a1[0]\n",
    "    w2_grad[0][1] = way_2 * a1[0]\n",
    "    w2_grad[1][0] = way_1 * a1[1]\n",
    "    w2_grad[1][1] = way_2 * a1[1]\n",
    "    \n",
    "    way_3 = way_1 * w2[0][0] * derivative_sigmoid(a1[0]) + \\\n",
    "            way_2 * w2[0][1] * derivative_sigmoid(a1[0])\n",
    "    way_4 = way_1 * w2[1][0] * derivative_sigmoid(a1[1]) + \\\n",
    "            way_2 * w2[1][1] * derivative_sigmoid(a1[1])\n",
    "    \n",
    "    w1_grad[0][0] = way_3 * x[0]\n",
    "    w1_grad[0][1] = way_4 * x[0]\n",
    "    w1_grad[1][0] = way_3 * x[1]\n",
    "    w1_grad[1][1] = way_4 * x[1]\n",
    "    \n",
    "    # Update weight\n",
    "    w1 -= learning_rate * w1_grad\n",
    "    w2 -= learning_rate * w2_grad\n",
    "    w3 -= learning_rate * w3_grad\n",
    "    global loss_sum\n",
    "    loss_sum += abs(loss[0])\n",
    "    \n",
    "    if model == 0:\n",
    "        NUM = 100.\n",
    "        FREQ = 500\n",
    "    else:\n",
    "        NUM = 21.\n",
    "        FREQ = 10000\n",
    "    \n",
    "    if((i+1)%FREQ == 0 and j == NUM - 1):\n",
    "        print(\"Epoch: {:5d}, loss: {}\".format(i+1, loss_sum/NUM /(i+1)))\n",
    "        loss_sum = 0\n",
    "        "
   ]
  },
  {
   "cell_type": "code",
   "execution_count": 695,
   "metadata": {},
   "outputs": [
    {
     "name": "stdout",
     "output_type": "stream",
     "text": [
      "w1 initial: \n",
      " [[-0.9902362  -1.25119296]\n",
      " [-0.76454547  1.17914138]]\n",
      "w2 initial: \n",
      " [[-1.73260983 -0.50603203]\n",
      " [-2.57926341 -0.93094966]]\n",
      "w3 initial: \n",
      " [[-0.86225917]\n",
      " [ 0.34191415]]\n",
      "Epoch:   500, loss: 0.3314948712384617\n",
      "Epoch:  1000, loss: 0.028702003860205834\n",
      "Epoch:  1500, loss: 0.011512645607211174\n",
      "Epoch:  2000, loss: 0.006168438134571162\n",
      "Epoch:  2500, loss: 0.0036811162905662086\n",
      "Epoch:  3000, loss: 0.002345513841132614\n",
      "Epoch:  3500, loss: 0.0015711535229156594\n",
      "Epoch:  4000, loss: 0.00109726885864293\n",
      "Epoch:  4500, loss: 0.0007941885448145192\n",
      "Epoch:  5000, loss: 0.0005927922425479315\n",
      "Epoch:  5500, loss: 0.00045436946275137795\n",
      "Epoch:  6000, loss: 0.000356342782077216\n",
      "Epoch:  6500, loss: 0.0002850632544254573\n",
      "Epoch:  7000, loss: 0.00023200638827512338\n",
      "Epoch:  7500, loss: 0.0001916874569416953\n",
      "Epoch:  8000, loss: 0.0001604804655233934\n",
      "Epoch:  8500, loss: 0.0001359282646696013\n",
      "Epoch:  9000, loss: 0.00011632792660808144\n",
      "Epoch:  9500, loss: 0.00010047487283187842\n",
      "Epoch: 10000, loss: 8.750104719225942e-05\n",
      "Result saved.\n"
     ]
    }
   ],
   "source": [
    "# Train linear separable model\n",
    "epoch = 10000\n",
    "learning_rate = 1e-2\n",
    "w1, w2, w3 = init_weight()\n",
    "for i in range(epoch):\n",
    "    for j in range(100):\n",
    "        train(x_train[j], y_train[j], i, j)\n",
    "        \n",
    "print(\"Training process terminated.\")\n",
    "        \n",
    "# Save result\n",
    "W_s = save_result()"
   ]
  },
  {
   "cell_type": "code",
   "execution_count": 737,
   "metadata": {},
   "outputs": [
    {
     "name": "stdout",
     "output_type": "stream",
     "text": [
      "w1 initial: \n",
      " [[ 0.66070695  0.53814972]\n",
      " [-0.58067608 -0.28897079]]\n",
      "w2 initial: \n",
      " [[ 0.54699068 -0.10444557]\n",
      " [-0.13682236  0.14277819]]\n",
      "w3 initial: \n",
      " [[-0.46707251]\n",
      " [-1.77685173]]\n",
      "Epoch: 10000, loss: 0.6928315701482569\n",
      "Epoch: 20000, loss: 0.34596318613313426\n",
      "Epoch: 30000, loss: 0.13746461389509151\n",
      "Epoch: 40000, loss: 0.021523841447525397\n",
      "Epoch: 50000, loss: 0.009752837611820976\n",
      "Epoch: 60000, loss: 0.005830916512874226\n",
      "Epoch: 70000, loss: 0.00391488553985565\n",
      "Epoch: 80000, loss: 0.002818660278065287\n",
      "Epoch: 90000, loss: 0.0021291546680293526\n",
      "Epoch: 100000, loss: 0.0016662130787930374\n",
      "Training processing terminated.\n",
      "Result saved.\n"
     ]
    }
   ],
   "source": [
    "# Train XOR model\n",
    "epoch = 100000\n",
    "learning_rate = 1e-2\n",
    "w1, w2, w3 = init_weight()\n",
    "for i in range(epoch):\n",
    "    for j in range(21):\n",
    "        train(x_train_1[j], y_train_1[j], i, j, 1)\n",
    "        \n",
    "print(\"Training processing terminated.\")\n",
    "\n",
    "# Save model\n",
    "W_xor = save_result()\n"
   ]
  },
  {
   "cell_type": "markdown",
   "metadata": {},
   "source": [
    "# Test"
   ]
  },
  {
   "cell_type": "code",
   "execution_count": 716,
   "metadata": {},
   "outputs": [
    {
     "data": {
      "image/png": "[encoded data removed]",
      "text/plain": [
       "<Figure size 432x288 with 2 Axes>"
      ]
     },
     "metadata": {
      "needs_background": "light"
     },
     "output_type": "display_data"
    }
   ],
   "source": [
    "show_result(x_train, y_train, forward(x_train, Ws))"
   ]
  },
  {
   "cell_type": "code",
   "execution_count": 739,
   "metadata": {},
   "outputs": [
    {
     "data": {
      "image/png": "[encoded data removed]",
      "text/plain": [
       "<Figure size 432x288 with 2 Axes>"
      ]
     },
     "metadata": {
      "needs_background": "light"
     },
     "output_type": "display_data"
    }
   ],
   "source": [
    "show_result(x_train_1, y_train_1, forward(x_train_1, W_xor))"
   ]
  },
  {
   "cell_type": "code",
   "execution_count": 750,
   "metadata": {},
   "outputs": [
    {
     "data": {
      "text/plain": [
       "array([0.02480135])"
      ]
     },
     "execution_count": 750,
     "metadata": {},
     "output_type": "execute_result"
    }
   ],
   "source": [
    "forward(np.array([0.15, 0.15]), W_s)"
   ]
  },
  {
   "cell_type": "code",
   "execution_count": null,
   "metadata": {},
   "outputs": [],
   "source": []
  }
 ],
 "metadata": {
  "kernelspec": {
   "display_name": "Python 3",
   "language": "python",
   "name": "python3"
  },
  "language_info": {
   "codemirror_mode": {
    "name": "ipython",
    "version": 3
   },
   "file_extension": ".py",
   "mimetype": "text/x-python",
   "name": "python",
   "nbconvert_exporter": "python",
   "pygments_lexer": "ipython3",
   "version": "3.5.2"
  }
 },
 "nbformat": 4,
 "nbformat_minor": 2
}
