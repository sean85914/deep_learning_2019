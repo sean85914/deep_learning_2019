{
 "cells": [
  {
   "cell_type": "code",
   "execution_count": 1,
   "metadata": {},
   "outputs": [],
   "source": [
    "import numpy as np\n",
    "from matplotlib import pyplot as plt"
   ]
  },
  {
   "cell_type": "code",
   "execution_count": 2,
   "metadata": {},
   "outputs": [],
   "source": [
    "# Generate training data\n",
    "def generate_linear(n=100):\n",
    "    pts = np.random.uniform(0, 1, (n, 2))\n",
    "    inputs = []\n",
    "    labels = []\n",
    "    for pt in pts:\n",
    "        inputs.append([pt[0], pt[1]])\n",
    "        distance = (pt[0]-pt[1])/1.414\n",
    "        if pt[0] > pt[1]:\n",
    "            labels.append(0)\n",
    "        else:\n",
    "            labels.append(1)\n",
    "    return np.array(inputs), np.array(labels).reshape(n, 1)\n",
    "\n",
    "def generate_XOR_easy():\n",
    "    inputs = []\n",
    "    labels = []\n",
    "    \n",
    "    for i in range(11):\n",
    "        inputs.append([0.1*i, 0.1*i])\n",
    "        labels.append(0)\n",
    "        \n",
    "        if 0.1*i == 0.5:\n",
    "            continue\n",
    "        \n",
    "        inputs.append([0.1*i, 1-0.1*i])\n",
    "        labels.append(1)\n",
    "        \n",
    "    return np.array(inputs), np.array(labels).reshape(21, 1)"
   ]
  },
  {
   "cell_type": "code",
   "execution_count": 3,
   "metadata": {},
   "outputs": [],
   "source": [
    "x_train, y_train = generate_linear(n=100)\n",
    "x_train_1 , y_train_1 = generate_XOR_easy()"
   ]
  },
  {
   "cell_type": "code",
   "execution_count": 4,
   "metadata": {},
   "outputs": [],
   "source": [
    "# Active function\n",
    "def sigmoid(x):\n",
    "    return 1.0/(1.0 + np.exp(-x))\n",
    "\n",
    "def derivative_sigmoid(x):\n",
    "    return np.multiply(x, 1.0 - x)"
   ]
  },
  {
   "cell_type": "code",
   "execution_count": 5,
   "metadata": {},
   "outputs": [],
   "source": [
    "# Display funtion\n",
    "'''\n",
    "  x: data\n",
    "  y: corresponding data groundtruth\n",
    "  y_pred: if given, plot the compare graph with this prediction result,\n",
    "          the result is in range [0, 1], so value with greater than 0.5 \n",
    "          will be recognized as Class 1 and less than 0.5 as Class 0\n",
    "'''\n",
    "def show_result(x, y, y_pred = None):\n",
    "    if y_pred is not None:\n",
    "        plt.subplot(1, 2, 1)\n",
    "        plt.title(\"Ground truth\", fontsize = 18)\n",
    "        for i in range(x.shape[0]):\n",
    "            if y[i] == 0:\n",
    "                plt.plot(x[i][0], x[i][1], 'ro')\n",
    "            else:\n",
    "                plt.plot(x[i][0], x[i][1], 'bo')\n",
    "    else:\n",
    "        plt.title(\"Ground truth\", fontsize = 18)\n",
    "        for i in range(x.shape[0]):\n",
    "            if y[i] == 0:\n",
    "                plt.plot(x[i][0], x[i][1], 'ro')\n",
    "            else:\n",
    "                plt.plot(x[i][0], x[i][1], 'bo')\n",
    "    if y_pred is not None:\n",
    "        plt.subplot(1, 2, 2)\n",
    "        plt.title(\"Predict result\", fontsize = 18)\n",
    "        for i in range(x.shape[0]):\n",
    "            if y_pred[i] < 0.5:\n",
    "                plt.plot(x[i][0], x[i][1], 'ro')\n",
    "            else:\n",
    "                plt.plot(x[i][0], x[i][1], 'bo')"
   ]
  },
  {
   "cell_type": "markdown",
   "metadata": {},
   "source": [
    "# NN Architecture \n",
    "Input(2) -> FC1(2) -> FC(2) -> OUT(1)"
   ]
  },
  {
   "cell_type": "code",
   "execution_count": 6,
   "metadata": {},
   "outputs": [],
   "source": [
    "'''\n",
    "  x: input with 2 channel\n",
    "  W: weight\n",
    "'''\n",
    "def forward(x, W):\n",
    "    w1, w2, w3 = W\n",
    "    # Forward\n",
    "    z1 = np.dot(x, w1)\n",
    "    a1 = sigmoid(z1)\n",
    "    z2 = np.dot(a1, w2)\n",
    "    a2 = sigmoid(z2)\n",
    "    z3 = np.dot(a2, w3)\n",
    "    y_pred = sigmoid(z3)\n",
    "    return y_pred"
   ]
  },
  {
   "cell_type": "code",
   "execution_count": 7,
   "metadata": {},
   "outputs": [],
   "source": [
    "# Random initial weight and return \n",
    "def init_weight():\n",
    "    w1 = np.random.randn(2, 2)\n",
    "    w2 = np.random.randn(2, 2)\n",
    "    w3 = np.random.randn(2, 1)\n",
    "    print(\"w1 initial: \\n\", w1)\n",
    "    print(\"w2 initial: \\n\", w2)\n",
    "    print(\"w3 initial: \\n\", w3)\n",
    "    return [w1, w2, w3]"
   ]
  },
  {
   "cell_type": "code",
   "execution_count": 8,
   "metadata": {},
   "outputs": [
    {
     "name": "stdout",
     "output_type": "stream",
     "text": [
      "w1 initial: \n",
      " [[0.32143263 0.93755339]\n",
      " [1.62637802 1.58731728]]\n",
      "w2 initial: \n",
      " [[-1.44576279  0.12329406]\n",
      " [ 1.58482372 -1.21362764]]\n",
      "w3 initial: \n",
      " [[-0.00264878]\n",
      " [-1.21066755]]\n"
     ]
    },
    {
     "data": {
      "text/plain": [
       "[array([[0.32143263, 0.93755339],\n",
       "        [1.62637802, 1.58731728]]), array([[-1.44576279,  0.12329406],\n",
       "        [ 1.58482372, -1.21362764]]), array([[-0.00264878],\n",
       "        [-1.21066755]])]"
      ]
     },
     "execution_count": 8,
     "metadata": {},
     "output_type": "execute_result"
    }
   ],
   "source": [
    "init_weight()"
   ]
  },
  {
   "cell_type": "code",
   "execution_count": 9,
   "metadata": {},
   "outputs": [],
   "source": [
    "# Save result\n",
    "def save_result():\n",
    "    global w1, w2, w3\n",
    "    W = [w1, w2, w3]\n",
    "    print('Result saved.')\n",
    "    print(W)\n",
    "    return W"
   ]
  },
  {
   "cell_type": "code",
   "execution_count": 10,
   "metadata": {},
   "outputs": [],
   "source": [
    "# Train\n",
    "loss_sum = 0\n",
    "loss_type = 'Cross Entropy'\n",
    "#loss_type = 'MSE'\n",
    "'''\n",
    "  x: training data\n",
    "  y: corresponding groundtruth\n",
    "  i: epoch now\n",
    "  j: index of data now\n",
    "  model: indicate which model, 0 for linear separable and 1 for XOR\n",
    "'''\n",
    "def train(x, y, loss_list = None,i = None, j = None, model = 0):\n",
    "    global w1, w2, w3\n",
    "    # Forward\n",
    "    z1 = np.dot(x, w1)\n",
    "    a1 = sigmoid(z1)\n",
    "    z2 = np.dot(a1, w2)\n",
    "    a2 = sigmoid(z2)\n",
    "    z3 = np.dot(a2, w3)\n",
    "    y_pred = sigmoid(z3)\n",
    "\n",
    "    \n",
    "    # Loss\n",
    "    if loss_type == 'Cross Entropy':\n",
    "        loss = -y * np.log(y_pred) - (1-y) * np.log(1-y_pred)\n",
    "        loss_grad = (y_pred - y)/ (y_pred * (1-y_pred))\n",
    "\n",
    "    if loss_type == 'MSE':\n",
    "        loss = (y - y_pred)**2 /2.\n",
    "        loss_grad = y_pred - y \n",
    "    \n",
    "    w3_grad = np.zeros((2, 1))\n",
    "    w2_grad = np.zeros((2, 2))\n",
    "    w1_grad = np.zeros((2, 2))\n",
    "    \n",
    "    w3_grad[0] = loss_grad * derivative_sigmoid(y_pred) * a2[0]\n",
    "    w3_grad[1] = loss_grad * derivative_sigmoid(y_pred) * a2[1]\n",
    "    \n",
    "    way_1 = loss_grad * derivative_sigmoid(y_pred) * w3[0] * derivative_sigmoid(a2[0])\n",
    "    way_2 = loss_grad * derivative_sigmoid(y_pred) * w3[1] * derivative_sigmoid(a2[1])\n",
    "    \n",
    "    w2_grad[0][0] = way_1 * a1[0]\n",
    "    w2_grad[0][1] = way_2 * a1[0]\n",
    "    w2_grad[1][0] = way_1 * a1[1]\n",
    "    w2_grad[1][1] = way_2 * a1[1]\n",
    "    \n",
    "    way_3 = way_1 * w2[0][0] * derivative_sigmoid(a1[0]) + \\\n",
    "            way_2 * w2[0][1] * derivative_sigmoid(a1[0])\n",
    "    way_4 = way_1 * w2[1][0] * derivative_sigmoid(a1[1]) + \\\n",
    "            way_2 * w2[1][1] * derivative_sigmoid(a1[1])\n",
    "    \n",
    "    w1_grad[0][0] = way_3 * x[0]\n",
    "    w1_grad[0][1] = way_4 * x[0]\n",
    "    w1_grad[1][0] = way_3 * x[1]\n",
    "    w1_grad[1][1] = way_4 * x[1]\n",
    "    \n",
    "    # Update weight\n",
    "    w1 -= learning_rate * w1_grad\n",
    "    w2 -= learning_rate * w2_grad\n",
    "    w3 -= learning_rate * w3_grad\n",
    "    global loss_sum\n",
    "    loss_sum += abs(loss[0])\n",
    "    \n",
    "    if model == 0:\n",
    "        NUM = 100.\n",
    "        FREQ = 500\n",
    "    else:\n",
    "        NUM = 21.\n",
    "        FREQ = 10000\n",
    "        \n",
    "    if loss_list is not None:\n",
    "        if j == NUM - 1:\n",
    "            loss_list.append(loss_sum/NUM /(i+1))\n",
    "    \n",
    "    if((i+1)%FREQ == 0 and j == NUM - 1):\n",
    "        print(\"Epoch: {:5d}, loss: {}\".format(i+1, loss_sum/NUM /(i+1)))\n",
    "        loss_sum = 0\n",
    "        "
   ]
  },
  {
   "cell_type": "code",
   "execution_count": 11,
   "metadata": {},
   "outputs": [
    {
     "name": "stderr",
     "output_type": "stream",
     "text": [
      "<>:9: SyntaxWarning: name 'loss_list' is assigned to before global declaration\n",
      "<>:9: SyntaxWarning: name 'loss_list' is assigned to before global declaration\n",
      "<>:9: SyntaxWarning: name 'loss_list' is assigned to before global declaration\n"
     ]
    },
    {
     "name": "stdout",
     "output_type": "stream",
     "text": [
      "w1 initial: \n",
      " [[-0.27100516  0.20904099]\n",
      " [-0.99535862  0.0328199 ]]\n",
      "w2 initial: \n",
      " [[-1.96988317 -0.52978211]\n",
      " [ 0.07167034 -0.39365526]]\n",
      "w3 initial: \n",
      " [[0.11179861]\n",
      " [1.48776368]]\n",
      "Epoch:   500, loss: 0.515166407867343\n",
      "Epoch:  1000, loss: 0.030038411412725185\n",
      "Epoch:  1500, loss: 0.011518090322084229\n",
      "Epoch:  2000, loss: 0.006503511815611456\n",
      "Epoch:  2500, loss: 0.004173704412085713\n",
      "Epoch:  3000, loss: 0.00286760820398381\n",
      "Epoch:  3500, loss: 0.002054588322144229\n",
      "Epoch:  4000, loss: 0.0015137084189028606\n",
      "Epoch:  4500, loss: 0.0011379766527990207\n",
      "Epoch:  5000, loss: 0.0008696271860380791\n",
      "Epoch:  5500, loss: 0.0006744674485924538\n",
      "Epoch:  6000, loss: 0.0005306336610582547\n",
      "Epoch:  6500, loss: 0.00042336911174832207\n",
      "Epoch:  7000, loss: 0.00034241892468402096\n",
      "Epoch:  7500, loss: 0.0002805665117288492\n",
      "Epoch:  8000, loss: 0.00023270383588658658\n",
      "Epoch:  8500, loss: 0.0001951968860488061\n",
      "Epoch:  9000, loss: 0.0001654430047991028\n",
      "Epoch:  9500, loss: 0.00014156221982262245\n",
      "Epoch: 10000, loss: 0.00012218304048314144\n",
      "Training process terminated.\n",
      "Result saved.\n",
      "[array([[ -8.50577922,  11.23116831],\n",
      "       [  8.43626562, -11.19686415]]), array([[-9.1775886 , 10.08073937],\n",
      "       [ 8.7745274 , -9.61440017]]), array([[-13.34526369],\n",
      "       [ 14.89143763]])]\n"
     ]
    },
    {
     "data": {
      "image/png": "[encoded data removed]",
      "text/plain": [
       "<Figure size 432x288 with 1 Axes>"
      ]
     },
     "metadata": {
      "needs_background": "light"
     },
     "output_type": "display_data"
    }
   ],
   "source": [
    "# Train linear separable model\n",
    "epoch = 10000\n",
    "learning_rate = 1e-2\n",
    "w1, w2, w3 = init_weight()\n",
    "loss_list = []\n",
    "\n",
    "for i in range(epoch):\n",
    "    for j in range(100):\n",
    "        global loss_list\n",
    "        train(x_train[j], y_train[j], loss_list, i, j)\n",
    "        \n",
    "print(\"Training process terminated.\")\n",
    "# Plot loss curve\n",
    "plt.plot(loss_list)\n",
    "plt.title(\"Loss curve with lr={}\".format(learning_rate))\n",
    "# Save result\n",
    "W_s = save_result()"
   ]
  },
  {
   "cell_type": "code",
   "execution_count": 32,
   "metadata": {
    "scrolled": true
   },
   "outputs": [
    {
     "name": "stdout",
     "output_type": "stream",
     "text": [
      "Epoch: 10000, loss: 0.006436701132423558\n",
      "Epoch: 20000, loss: 0.0030521155808065684\n",
      "Epoch: 30000, loss: 0.0019404872015123468\n",
      "Epoch: 40000, loss: 0.0013911502015611361\n",
      "Epoch: 50000, loss: 0.0010660110543473963\n",
      "Epoch: 60000, loss: 0.0008524877103466477\n",
      "Epoch: 70000, loss: 0.0007024035420985845\n",
      "Epoch: 80000, loss: 0.0005917195098241818\n",
      "Epoch: 90000, loss: 0.0005071151822816831\n",
      "Epoch: 100000, loss: 0.0004406232898254974\n",
      "Epoch: 110000, loss: 0.0003871922318227473\n",
      "Epoch: 120000, loss: 0.0003434682112506424\n",
      "Epoch: 130000, loss: 0.00030714005578959166\n",
      "Epoch: 140000, loss: 0.00027656524227621715\n",
      "Epoch: 150000, loss: 0.0002505458038795477\n",
      "Epoch: 160000, loss: 0.00022818848365676705\n",
      "Epoch: 170000, loss: 0.000208814401345982\n",
      "Epoch: 180000, loss: 0.00019189894749872916\n",
      "Epoch: 190000, loss: 0.00017703074642041092\n",
      "Epoch: 200000, loss: 0.00016388299763933037\n",
      "Training processing terminated.\n",
      "Result saved.\n",
      "[array([[ 16.51410855,  21.09346218],\n",
      "       [-19.16649964, -24.7028017 ]]), array([[-10.45229806,  12.19700186],\n",
      "       [ 12.12106091,   4.19280672]]), array([[ 58.63085194],\n",
      "       [-44.29382953]])]\n"
     ]
    },
    {
     "data": {
      "image/png": "[encoded data removed]",
      "text/plain": [
       "<Figure size 432x288 with 1 Axes>"
      ]
     },
     "metadata": {
      "needs_background": "light"
     },
     "output_type": "display_data"
    }
   ],
   "source": [
    "# Train XOR model\n",
    "epoch = 200000\n",
    "learning_rate = 1e-2\n",
    "# Random initial\n",
    "#w1, w2, w3 = init_weight()\n",
    "# Same initailization\n",
    "\n",
    "#w1 = np.array([[-1.1014141, 1.24820549],[-2.24830822, -0.70606382]])\n",
    "#w2 = np.array([[-0.99334685, 0.02178998],[ 0.10302095, 0.26332976]])\n",
    "#w3 = np.array([[-0.26105551], [-2.14096867]])\n",
    "\n",
    "#w1 = W_xor[0]\n",
    "#w2 = W_xor[1]\n",
    "#w3 = W_xor[2]\n",
    "\n",
    "# All zeros\n",
    "'''\n",
    "w1 = np.zeros((2, 2))\n",
    "w2 = np.zeros((2, 2))\n",
    "w3 = np.zeros((2, 1))\n",
    "'''\n",
    "# Huge\n",
    "'''\n",
    "w1 = np.array([[1e2, -1e2], [1e2, -1e2]])\n",
    "w2 = np.array([[-1e2, 1e2], [-1e2, 1e2]])\n",
    "w3 = np.array([[10.], [-10.]])\n",
    "'''\n",
    "\n",
    "# Near the best solution\n",
    "\n",
    "w1 = np.array([[15., 20.], [-18., -24.]])\n",
    "w2 = np.array([[-10., 12.], [12., 3.5]])\n",
    "w3 = np.array([[50.], [-37.]])\n",
    "\n",
    "\n",
    "loss_list_xor = []\n",
    "for i in range(epoch):\n",
    "    for j in range(21):\n",
    "        train(x_train_1[j], y_train_1[j], loss_list_xor, i, j, 1)\n",
    "        \n",
    "print(\"Training processing terminated.\")\n",
    "\n",
    "# Plot loss curve\n",
    "plt.plot(loss_list_xor)\n",
    "plt.title(\"Random initailization\".format(learning_rate))\n",
    "\n",
    "# Save model\n",
    "W_xor = save_result()\n"
   ]
  },
  {
   "cell_type": "markdown",
   "metadata": {},
   "source": [
    "# Test"
   ]
  },
  {
   "cell_type": "code",
   "execution_count": 30,
   "metadata": {},
   "outputs": [
    {
     "data": {
      "image/png": "[encoded data removed]",
      "text/plain": [
       "<Figure size 432x288 with 2 Axes>"
      ]
     },
     "metadata": {
      "needs_background": "light"
     },
     "output_type": "display_data"
    }
   ],
   "source": [
    "show_result(x_train, y_train, forward(x_train, W_s))"
   ]
  },
  {
   "cell_type": "code",
   "execution_count": 33,
   "metadata": {},
   "outputs": [
    {
     "data": {
      "image/png": "[encoded data removed]",
      "text/plain": [
       "<Figure size 432x288 with 2 Axes>"
      ]
     },
     "metadata": {
      "needs_background": "light"
     },
     "output_type": "display_data"
    }
   ],
   "source": [
    "show_result(x_train_1, y_train_1, forward(x_train_1, W_xor))"
   ]
  },
  {
   "cell_type": "code",
   "execution_count": 750,
   "metadata": {},
   "outputs": [
    {
     "data": {
      "text/plain": [
       "array([0.02480135])"
      ]
     },
     "execution_count": 750,
     "metadata": {},
     "output_type": "execute_result"
    }
   ],
   "source": [
    "forward(np.array([0.15, 0.15]), W_s)"
   ]
  },
  {
   "cell_type": "code",
   "execution_count": 764,
   "metadata": {},
   "outputs": [
    {
     "data": {
      "text/plain": [
       "array([[0.06325],\n",
       "       [0.98774],\n",
       "       [0.00082],\n",
       "       [0.98774],\n",
       "       [0.00001],\n",
       "       [0.98785],\n",
       "       [0.     ],\n",
       "       [0.99011],\n",
       "       [0.     ],\n",
       "       [0.99798],\n",
       "       [0.     ],\n",
       "       [0.     ],\n",
       "       [0.98836],\n",
       "       [0.     ],\n",
       "       [0.99806],\n",
       "       [0.00001],\n",
       "       [0.9982 ],\n",
       "       [0.00009],\n",
       "       [0.9982 ],\n",
       "       [0.00114],\n",
       "       [0.9982 ]])"
      ]
     },
     "execution_count": 764,
     "metadata": {},
     "output_type": "execute_result"
    }
   ],
   "source": [
    "np.set_printoptions(precision=5, suppress=True)\n",
    "forward(x_train_1, W_xor)"
   ]
  },
  {
   "cell_type": "code",
   "execution_count": 22,
   "metadata": {},
   "outputs": [
    {
     "data": {
      "text/plain": [
       "[array([[ 4.39060797, -9.82672791],\n",
       "        [-3.4178775 ,  9.12361504]]), array([[-5.00895229,  5.97140126],\n",
       "        [ 7.74337368, -9.06460215]]), array([[ 10.96421869],\n",
       "        [-12.25795282]])]"
      ]
     },
     "execution_count": 22,
     "metadata": {},
     "output_type": "execute_result"
    }
   ],
   "source": [
    "W_s"
   ]
  },
  {
   "cell_type": "code",
   "execution_count": 34,
   "metadata": {},
   "outputs": [
    {
     "data": {
      "text/plain": [
       "[array([[ 16.51410855,  21.09346218],\n",
       "        [-19.16649964, -24.7028017 ]]), array([[-10.45229806,  12.19700186],\n",
       "        [ 12.12106091,   4.19280672]]), array([[ 58.63085194],\n",
       "        [-44.29382953]])]"
      ]
     },
     "execution_count": 34,
     "metadata": {},
     "output_type": "execute_result"
    }
   ],
   "source": [
    "W_xor"
   ]
  }
 ],
 "metadata": {
  "kernelspec": {
   "display_name": "Python 3",
   "language": "python",
   "name": "python3"
  },
  "language_info": {
   "codemirror_mode": {
    "name": "ipython",
    "version": 3
   },
   "file_extension": ".py",
   "mimetype": "text/x-python",
   "name": "python",
   "nbconvert_exporter": "python",
   "pygments_lexer": "ipython3",
   "version": "3.5.2"
  }
 },
 "nbformat": 4,
 "nbformat_minor": 2
}
